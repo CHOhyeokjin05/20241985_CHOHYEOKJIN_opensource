{
 "cells": [
  {
   "cell_type": "code",
   "execution_count": null,
   "metadata": {
    "vscode": {
     "languageId": "plaintext"
    }
   },
   "outputs": [],
   "source": [
    "import openai\n",
    "\n",
    "# OpenAI API 키 설정\n",
    "openai.api_key = ''  # 여기에 발급받은 API 키를 입력하세요\n",
    "\n",
    "# ChatGPT 모델 호출 예시\n",
    "response = openai.ChatCompletion.create(\n",
    "    model=\"gpt-3.5-turbo\",  # 사용할 모델 이름\n",
    "    messages=[\n",
    "        {\"role\": \"system\", \"content\": \"You are a helpful assistant.\"},\n",
    "        {\"role\": \"user\", \"content\": \"안녕하세요, 오늘 날씨가 어떤가요?\"}\n",
    "    ]\n",
    ")\n",
    "\n",
    "# 응답 출력\n",
    "print(response['choices'][0]['message']['content'])\n"
   ]
  }
 ],
 "metadata": {
  "language_info": {
   "name": "python"
  }
 },
 "nbformat": 4,
 "nbformat_minor": 2
}
