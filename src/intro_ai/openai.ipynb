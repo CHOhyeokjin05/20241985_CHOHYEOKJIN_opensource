import openai

# OpenAI API 키 설정
openai.api_key = 'YOUR_API_KEY'  # 여기에 발급받은 API 키를 입력하세요

# ChatGPT 모델 호출 예시
response = openai.ChatCompletion.create(
    model="gpt-3.5-turbo",  # 사용할 모델 이름
    messages=[
        {"role": "system", "content": "You are a helpful assistant."},
        {"role": "user", "content": "안녕하세요, 오늘 날씨가 어떤가요?"}
    ]
)

# 응답 출력
print(response['choices'][0]['message']['content'])


# 함수 정의
def get_response(message):
    response = openai.ChatCompletion.create(
        model="gpt-3.5-turbo",
        messages=[
            {"role": "system", "content": "You are a helpful assistant."},
            {"role": "user", "content": message}
        ]
    )

    return response['choices'][0]['message']['content']

# 함수 사용 예시
user_message = "What is your name?"
reply = get_response(user_message)
print(reply)
